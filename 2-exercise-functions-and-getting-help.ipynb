{
 "cells": [
  {
   "cell_type": "markdown",
   "id": "72532088",
   "metadata": {
    "papermill": {
     "duration": 0.007585,
     "end_time": "2022-08-15T09:36:11.040763",
     "exception": false,
     "start_time": "2022-08-15T09:36:11.033178",
     "status": "completed"
    },
    "tags": []
   },
   "source": [
    "**This notebook is an exercise in the [Python](https://www.kaggle.com/learn/python) course.  You can reference the tutorial at [this link](https://www.kaggle.com/colinmorris/functions-and-getting-help).**\n",
    "\n",
    "---\n"
   ]
  },
  {
   "cell_type": "markdown",
   "id": "899e83e6",
   "metadata": {
    "papermill": {
     "duration": 0.004794,
     "end_time": "2022-08-15T09:36:11.052421",
     "exception": false,
     "start_time": "2022-08-15T09:36:11.047627",
     "status": "completed"
    },
    "tags": []
   },
   "source": [
    "Functions are powerful. Try writing some yourself.\n",
    "\n",
    "As before, don't forget to run the setup code below before jumping into question 1."
   ]
  },
  {
   "cell_type": "code",
   "execution_count": 1,
   "id": "f28fdf80",
   "metadata": {
    "_kg_hide-input": true,
    "_kg_hide-output": true,
    "execution": {
     "iopub.execute_input": "2022-08-15T09:36:11.065905Z",
     "iopub.status.busy": "2022-08-15T09:36:11.065086Z",
     "iopub.status.idle": "2022-08-15T09:36:11.135237Z",
     "shell.execute_reply": "2022-08-15T09:36:11.133794Z"
    },
    "papermill": {
     "duration": 0.08197,
     "end_time": "2022-08-15T09:36:11.139791",
     "exception": false,
     "start_time": "2022-08-15T09:36:11.057821",
     "status": "completed"
    },
    "tags": []
   },
   "outputs": [
    {
     "name": "stdout",
     "output_type": "stream",
     "text": [
      "Setup complete.\n"
     ]
    }
   ],
   "source": [
    "# SETUP. You don't need to worry for now about what this code does or how it works.\n",
    "from learntools.core import binder; binder.bind(globals())\n",
    "from learntools.python.ex2 import *\n",
    "print('Setup complete.')"
   ]
  },
  {
   "cell_type": "markdown",
   "id": "b3a4bb38",
   "metadata": {
    "papermill": {
     "duration": 0.00468,
     "end_time": "2022-08-15T09:36:11.149722",
     "exception": false,
     "start_time": "2022-08-15T09:36:11.145042",
     "status": "completed"
    },
    "tags": []
   },
   "source": [
    "# 1.\n",
    "\n",
    "Complete the body of the following function according to its docstring.\n",
    "\n",
    "HINT: Python has a built-in function `round`."
   ]
  },
  {
   "cell_type": "code",
   "execution_count": 2,
   "id": "8bb9f1e4",
   "metadata": {
    "execution": {
     "iopub.execute_input": "2022-08-15T09:36:11.162198Z",
     "iopub.status.busy": "2022-08-15T09:36:11.161275Z",
     "iopub.status.idle": "2022-08-15T09:36:11.174747Z",
     "shell.execute_reply": "2022-08-15T09:36:11.173200Z"
    },
    "papermill": {
     "duration": 0.023256,
     "end_time": "2022-08-15T09:36:11.177796",
     "exception": false,
     "start_time": "2022-08-15T09:36:11.154540",
     "status": "completed"
    },
    "tags": []
   },
   "outputs": [
    {
     "data": {
      "application/javascript": [
       "parent.postMessage({\"jupyterEvent\": \"custom.exercise_interaction\", \"data\": {\"outcomeType\": 1, \"valueTowardsCompletion\": 0.16666666666666666, \"interactionType\": 1, \"questionType\": 2, \"questionId\": \"1_RoundFunctionProblem\", \"learnToolsVersion\": \"0.3.4\", \"failureMessage\": \"\", \"exceptionClass\": \"\", \"trace\": \"\"}}, \"*\")"
      ],
      "text/plain": [
       "<IPython.core.display.Javascript object>"
      ]
     },
     "metadata": {},
     "output_type": "display_data"
    },
    {
     "data": {
      "text/markdown": [
       "<span style=\"color:#33cc33\">Correct</span>"
      ],
      "text/plain": [
       "Correct"
      ]
     },
     "metadata": {},
     "output_type": "display_data"
    }
   ],
   "source": [
    "def round_to_two_places(num):\n",
    "    \"\"\"Return the given number rounded to two decimal places. \n",
    "    \n",
    "    >>> round_to_two_places(3.14159)\n",
    "    3.14\n",
    "    \"\"\"\n",
    "    # Replace this body with your own code.\n",
    "    # (\"pass\" is a keyword that does literally nothing. We used it as a placeholder\n",
    "    # because after we begin a code block, Python requires at least one line of code)\n",
    "    return round(num, 2)\n",
    "\n",
    "# Check your answer\n",
    "q1.check()"
   ]
  },
  {
   "cell_type": "code",
   "execution_count": 3,
   "id": "8964ecc8",
   "metadata": {
    "execution": {
     "iopub.execute_input": "2022-08-15T09:36:11.191742Z",
     "iopub.status.busy": "2022-08-15T09:36:11.190801Z",
     "iopub.status.idle": "2022-08-15T09:36:11.205518Z",
     "shell.execute_reply": "2022-08-15T09:36:11.204644Z"
    },
    "papermill": {
     "duration": 0.024781,
     "end_time": "2022-08-15T09:36:11.208159",
     "exception": false,
     "start_time": "2022-08-15T09:36:11.183378",
     "status": "completed"
    },
    "tags": []
   },
   "outputs": [
    {
     "data": {
      "application/javascript": [
       "parent.postMessage({\"jupyterEvent\": \"custom.exercise_interaction\", \"data\": {\"interactionType\": 2, \"questionType\": 2, \"questionId\": \"1_RoundFunctionProblem\", \"learnToolsVersion\": \"0.3.4\", \"valueTowardsCompletion\": 0.0, \"failureMessage\": \"\", \"exceptionClass\": \"\", \"trace\": \"\", \"outcomeType\": 4}}, \"*\")"
      ],
      "text/plain": [
       "<IPython.core.display.Javascript object>"
      ]
     },
     "metadata": {},
     "output_type": "display_data"
    },
    {
     "data": {
      "text/markdown": [
       "<span style=\"color:#3366cc\">Hint:</span> Run `help(round)` in the console (or in a code cell) to learn more about the round function. You'll need to use the function's optional second argument."
      ],
      "text/plain": [
       "Hint: Run `help(round)` in the console (or in a code cell) to learn more about the round function. You'll need to use the function's optional second argument."
      ]
     },
     "metadata": {},
     "output_type": "display_data"
    },
    {
     "data": {
      "application/javascript": [
       "parent.postMessage({\"jupyterEvent\": \"custom.exercise_interaction\", \"data\": {\"interactionType\": 3, \"questionType\": 2, \"questionId\": \"1_RoundFunctionProblem\", \"learnToolsVersion\": \"0.3.4\", \"valueTowardsCompletion\": 0.0, \"failureMessage\": \"\", \"exceptionClass\": \"\", \"trace\": \"\", \"outcomeType\": 4}}, \"*\")"
      ],
      "text/plain": [
       "<IPython.core.display.Javascript object>"
      ]
     },
     "metadata": {},
     "output_type": "display_data"
    },
    {
     "data": {
      "text/markdown": [
       "<span style=\"color:#33cc99\">Solution:</span> \n",
       "```python\n",
       "return round(num, 2)\n",
       "```"
      ],
      "text/plain": [
       "Solution: \n",
       "```python\n",
       "return round(num, 2)\n",
       "```"
      ]
     },
     "metadata": {},
     "output_type": "display_data"
    }
   ],
   "source": [
    "# Uncomment the following for a hint\n",
    "q1.hint()\n",
    "# Or uncomment the following to peek at the solution\n",
    "q1.solution()"
   ]
  },
  {
   "cell_type": "markdown",
   "id": "0b5433ab",
   "metadata": {
    "papermill": {
     "duration": 0.00536,
     "end_time": "2022-08-15T09:36:11.219547",
     "exception": false,
     "start_time": "2022-08-15T09:36:11.214187",
     "status": "completed"
    },
    "tags": []
   },
   "source": [
    "# 2.\n",
    "The help for `round` says that `ndigits` (the second argument) may be negative.\n",
    "What do you think will happen when it is? Try some examples in the following cell."
   ]
  },
  {
   "cell_type": "code",
   "execution_count": 4,
   "id": "8391a4b7",
   "metadata": {
    "execution": {
     "iopub.execute_input": "2022-08-15T09:36:11.233565Z",
     "iopub.status.busy": "2022-08-15T09:36:11.233003Z",
     "iopub.status.idle": "2022-08-15T09:36:11.240852Z",
     "shell.execute_reply": "2022-08-15T09:36:11.239418Z"
    },
    "papermill": {
     "duration": 0.018037,
     "end_time": "2022-08-15T09:36:11.243183",
     "exception": false,
     "start_time": "2022-08-15T09:36:11.225146",
     "status": "completed"
    },
    "tags": []
   },
   "outputs": [
    {
     "data": {
      "text/plain": [
       "231600"
      ]
     },
     "execution_count": 4,
     "metadata": {},
     "output_type": "execute_result"
    }
   ],
   "source": [
    "# Put your test code here\n",
    "round(231568, -2)"
   ]
  },
  {
   "cell_type": "markdown",
   "id": "9382b858",
   "metadata": {
    "papermill": {
     "duration": 0.005457,
     "end_time": "2022-08-15T09:36:11.254636",
     "exception": false,
     "start_time": "2022-08-15T09:36:11.249179",
     "status": "completed"
    },
    "tags": []
   },
   "source": [
    "Can you think of a case where this would be useful?  Once you're ready, run the code cell below to see the answer and to receive credit for completing the problem."
   ]
  },
  {
   "cell_type": "code",
   "execution_count": 5,
   "id": "841a5db7",
   "metadata": {
    "execution": {
     "iopub.execute_input": "2022-08-15T09:36:11.268873Z",
     "iopub.status.busy": "2022-08-15T09:36:11.267864Z",
     "iopub.status.idle": "2022-08-15T09:36:11.277998Z",
     "shell.execute_reply": "2022-08-15T09:36:11.276789Z"
    },
    "papermill": {
     "duration": 0.020231,
     "end_time": "2022-08-15T09:36:11.280738",
     "exception": false,
     "start_time": "2022-08-15T09:36:11.260507",
     "status": "completed"
    },
    "tags": []
   },
   "outputs": [
    {
     "data": {
      "application/javascript": [
       "parent.postMessage({\"jupyterEvent\": \"custom.exercise_interaction\", \"data\": {\"interactionType\": 3, \"questionType\": 4, \"questionId\": \"2_RoundNdigitsProblem\", \"learnToolsVersion\": \"0.3.4\", \"valueTowardsCompletion\": 0.0, \"failureMessage\": \"\", \"exceptionClass\": \"\", \"trace\": \"\", \"outcomeType\": 4}}, \"*\")"
      ],
      "text/plain": [
       "<IPython.core.display.Javascript object>"
      ]
     },
     "metadata": {},
     "output_type": "display_data"
    },
    {
     "data": {
      "text/markdown": [
       "<span style=\"color:#33cc99\">Solution:</span> As you've seen, `ndigits=-1` rounds to the nearest 10, `ndigits=-2` rounds to the nearest 100 and so on. Where might this be useful? Suppose we're dealing with large numbers:\n",
       "\n",
       "> The area of Finland is 338,424 km²  \n",
       "> The area of Greenland is 2,166,086 km²\n",
       "\n",
       "We probably don't care whether it's really 338,424, or 338,425, or 338,177. All those digits of accuracy are just distracting. We can chop them off by calling `round()` with `ndigits=-3`:\n",
       "\n",
       "> The area of Finland is 338,000 km²  \n",
       "> The area of Greenland is 2,166,000 km²\n",
       "\n",
       "(We'll talk about how we would get the commas later when we talk about string formatting :))\n"
      ],
      "text/plain": [
       "Solution: As you've seen, `ndigits=-1` rounds to the nearest 10, `ndigits=-2` rounds to the nearest 100 and so on. Where might this be useful? Suppose we're dealing with large numbers:\n",
       "\n",
       "> The area of Finland is 338,424 km²  \n",
       "> The area of Greenland is 2,166,086 km²\n",
       "\n",
       "We probably don't care whether it's really 338,424, or 338,425, or 338,177. All those digits of accuracy are just distracting. We can chop them off by calling `round()` with `ndigits=-3`:\n",
       "\n",
       "> The area of Finland is 338,000 km²  \n",
       "> The area of Greenland is 2,166,000 km²\n",
       "\n",
       "(We'll talk about how we would get the commas later when we talk about string formatting :))"
      ]
     },
     "metadata": {},
     "output_type": "display_data"
    }
   ],
   "source": [
    "# Check your answer (Run this code cell to receive credit!)\n",
    "q2.solution()"
   ]
  },
  {
   "cell_type": "markdown",
   "id": "4db772b1",
   "metadata": {
    "papermill": {
     "duration": 0.006259,
     "end_time": "2022-08-15T09:36:11.293729",
     "exception": false,
     "start_time": "2022-08-15T09:36:11.287470",
     "status": "completed"
    },
    "tags": []
   },
   "source": [
    "# 3.\n",
    "\n",
    "In the previous exercise, the candy-sharing friends Alice, Bob and Carol tried to split candies evenly. For the sake of their friendship, any candies left over would be smashed. For example, if they collectively bring home 91 candies, they'll take 30 each and smash 1.\n",
    "\n",
    "Below is a simple function that will calculate the number of candies to smash for *any* number of total candies.\n",
    "\n",
    "Modify it so that it optionally takes a second argument representing the number of friends the candies are being split between. If no second argument is provided, it should assume 3 friends, as before.\n",
    "\n",
    "Update the docstring to reflect this new behaviour."
   ]
  },
  {
   "cell_type": "code",
   "execution_count": 6,
   "id": "946086b7",
   "metadata": {
    "execution": {
     "iopub.execute_input": "2022-08-15T09:36:11.309647Z",
     "iopub.status.busy": "2022-08-15T09:36:11.308746Z",
     "iopub.status.idle": "2022-08-15T09:36:11.319564Z",
     "shell.execute_reply": "2022-08-15T09:36:11.318656Z"
    },
    "papermill": {
     "duration": 0.021838,
     "end_time": "2022-08-15T09:36:11.321979",
     "exception": false,
     "start_time": "2022-08-15T09:36:11.300141",
     "status": "completed"
    },
    "tags": []
   },
   "outputs": [
    {
     "data": {
      "application/javascript": [
       "parent.postMessage({\"jupyterEvent\": \"custom.exercise_interaction\", \"data\": {\"outcomeType\": 1, \"valueTowardsCompletion\": 0.16666666666666666, \"interactionType\": 1, \"questionType\": 2, \"questionId\": \"3_CandySmashingFunctionProblem\", \"learnToolsVersion\": \"0.3.4\", \"failureMessage\": \"\", \"exceptionClass\": \"\", \"trace\": \"\"}}, \"*\")"
      ],
      "text/plain": [
       "<IPython.core.display.Javascript object>"
      ]
     },
     "metadata": {},
     "output_type": "display_data"
    },
    {
     "data": {
      "text/markdown": [
       "<span style=\"color:#33cc33\">Correct</span>"
      ],
      "text/plain": [
       "Correct"
      ]
     },
     "metadata": {},
     "output_type": "display_data"
    }
   ],
   "source": [
    "def to_smash(total_candies, n_friends=3):\n",
    "    \"\"\"Return the number of leftover candies that must be smashed after distributing\n",
    "    the given number of candies evenly between 3 friends.\n",
    "    \n",
    "    >>> to_smash(91)\n",
    "    1\n",
    "    \"\"\"\n",
    "    return total_candies%n_friends\n",
    "\n",
    "# Check your answer\n",
    "q3.check()"
   ]
  },
  {
   "cell_type": "code",
   "execution_count": 7,
   "id": "e1edc7b3",
   "metadata": {
    "execution": {
     "iopub.execute_input": "2022-08-15T09:36:11.338238Z",
     "iopub.status.busy": "2022-08-15T09:36:11.337348Z",
     "iopub.status.idle": "2022-08-15T09:36:11.347568Z",
     "shell.execute_reply": "2022-08-15T09:36:11.346640Z"
    },
    "papermill": {
     "duration": 0.022383,
     "end_time": "2022-08-15T09:36:11.350886",
     "exception": false,
     "start_time": "2022-08-15T09:36:11.328503",
     "status": "completed"
    },
    "tags": []
   },
   "outputs": [
    {
     "data": {
      "application/javascript": [
       "parent.postMessage({\"jupyterEvent\": \"custom.exercise_interaction\", \"data\": {\"interactionType\": 2, \"questionType\": 2, \"questionId\": \"3_CandySmashingFunctionProblem\", \"learnToolsVersion\": \"0.3.4\", \"valueTowardsCompletion\": 0.0, \"failureMessage\": \"\", \"exceptionClass\": \"\", \"trace\": \"\", \"outcomeType\": 4}}, \"*\")"
      ],
      "text/plain": [
       "<IPython.core.display.Javascript object>"
      ]
     },
     "metadata": {},
     "output_type": "display_data"
    },
    {
     "data": {
      "text/markdown": [
       "<span style=\"color:#3366cc\">Hint:</span> Refer to the section of the last tutorial notebook where we talked about default arguments"
      ],
      "text/plain": [
       "Hint: Refer to the section of the last tutorial notebook where we talked about default arguments"
      ]
     },
     "metadata": {},
     "output_type": "display_data"
    }
   ],
   "source": [
    "q3.hint()"
   ]
  },
  {
   "cell_type": "code",
   "execution_count": 8,
   "id": "8eb5ac12",
   "metadata": {
    "execution": {
     "iopub.execute_input": "2022-08-15T09:36:11.367064Z",
     "iopub.status.busy": "2022-08-15T09:36:11.365809Z",
     "iopub.status.idle": "2022-08-15T09:36:11.376589Z",
     "shell.execute_reply": "2022-08-15T09:36:11.375563Z"
    },
    "papermill": {
     "duration": 0.021614,
     "end_time": "2022-08-15T09:36:11.379298",
     "exception": false,
     "start_time": "2022-08-15T09:36:11.357684",
     "status": "completed"
    },
    "tags": []
   },
   "outputs": [
    {
     "data": {
      "application/javascript": [
       "parent.postMessage({\"jupyterEvent\": \"custom.exercise_interaction\", \"data\": {\"interactionType\": 3, \"questionType\": 2, \"questionId\": \"3_CandySmashingFunctionProblem\", \"learnToolsVersion\": \"0.3.4\", \"valueTowardsCompletion\": 0.0, \"failureMessage\": \"\", \"exceptionClass\": \"\", \"trace\": \"\", \"outcomeType\": 4}}, \"*\")"
      ],
      "text/plain": [
       "<IPython.core.display.Javascript object>"
      ]
     },
     "metadata": {},
     "output_type": "display_data"
    },
    {
     "data": {
      "text/markdown": [
       "<span style=\"color:#33cc99\">Solution:</span> \n",
       "```python\n",
       "def to_smash(total_candies, n_friends=3):\n",
       "    return total_candies % n_friends\n",
       "```"
      ],
      "text/plain": [
       "Solution: \n",
       "```python\n",
       "def to_smash(total_candies, n_friends=3):\n",
       "    return total_candies % n_friends\n",
       "```"
      ]
     },
     "metadata": {},
     "output_type": "display_data"
    }
   ],
   "source": [
    "q3.solution()"
   ]
  },
  {
   "cell_type": "markdown",
   "id": "aa109e62",
   "metadata": {
    "papermill": {
     "duration": 0.006598,
     "end_time": "2022-08-15T09:36:11.392824",
     "exception": false,
     "start_time": "2022-08-15T09:36:11.386226",
     "status": "completed"
    },
    "tags": []
   },
   "source": [
    "# 4. (Optional)\n",
    "\n",
    "It may not be fun, but reading and understanding error messages will be an important part of your Python career.\n",
    "\n",
    "Each code cell below contains some commented buggy code. For each cell...\n",
    "\n",
    "1. Read the code and predict what you think will happen when it's run.\n",
    "2. Then uncomment the code and run it to see what happens. (**Tip**: In the kernel editor, you can highlight several lines and press `ctrl`+`/` to toggle commenting.)\n",
    "3. Fix the code (so that it accomplishes its intended purpose without throwing an exception)\n",
    "\n",
    "<!-- TODO: should this be autochecked? Delta is probably pretty small. -->"
   ]
  },
  {
   "cell_type": "code",
   "execution_count": 9,
   "id": "f3c776e1",
   "metadata": {
    "execution": {
     "iopub.execute_input": "2022-08-15T09:36:11.410972Z",
     "iopub.status.busy": "2022-08-15T09:36:11.410048Z",
     "iopub.status.idle": "2022-08-15T09:36:11.418283Z",
     "shell.execute_reply": "2022-08-15T09:36:11.416996Z"
    },
    "papermill": {
     "duration": 0.021358,
     "end_time": "2022-08-15T09:36:11.421180",
     "exception": false,
     "start_time": "2022-08-15T09:36:11.399822",
     "status": "completed"
    },
    "tags": []
   },
   "outputs": [
    {
     "data": {
      "text/plain": [
       "10.0"
      ]
     },
     "execution_count": 9,
     "metadata": {},
     "output_type": "execute_result"
    }
   ],
   "source": [
    "round_to_two_places(9.9999)"
   ]
  },
  {
   "cell_type": "code",
   "execution_count": 10,
   "id": "72c96de1",
   "metadata": {
    "execution": {
     "iopub.execute_input": "2022-08-15T09:36:11.437788Z",
     "iopub.status.busy": "2022-08-15T09:36:11.437297Z",
     "iopub.status.idle": "2022-08-15T09:36:11.443239Z",
     "shell.execute_reply": "2022-08-15T09:36:11.441995Z"
    },
    "papermill": {
     "duration": 0.017364,
     "end_time": "2022-08-15T09:36:11.445816",
     "exception": false,
     "start_time": "2022-08-15T09:36:11.428452",
     "status": "completed"
    },
    "tags": []
   },
   "outputs": [],
   "source": [
    "x = -10\n",
    "y = 5\n",
    "# # Which of the two variables above has the smallest absolute value?\n",
    "smallest_abs = min(abs(x), abs(y))"
   ]
  },
  {
   "cell_type": "code",
   "execution_count": 11,
   "id": "923f2652",
   "metadata": {
    "execution": {
     "iopub.execute_input": "2022-08-15T09:36:11.464314Z",
     "iopub.status.busy": "2022-08-15T09:36:11.463224Z",
     "iopub.status.idle": "2022-08-15T09:36:11.471218Z",
     "shell.execute_reply": "2022-08-15T09:36:11.469496Z"
    },
    "papermill": {
     "duration": 0.021004,
     "end_time": "2022-08-15T09:36:11.474258",
     "exception": false,
     "start_time": "2022-08-15T09:36:11.453254",
     "status": "completed"
    },
    "tags": []
   },
   "outputs": [
    {
     "name": "stdout",
     "output_type": "stream",
     "text": [
      "5\n"
     ]
    }
   ],
   "source": [
    "def f(x):\n",
    "    y = abs(x)\n",
    "    return y\n",
    "\n",
    "print(f(5))"
   ]
  },
  {
   "cell_type": "markdown",
   "id": "67132493",
   "metadata": {
    "papermill": {
     "duration": 0.007379,
     "end_time": "2022-08-15T09:36:11.488896",
     "exception": false,
     "start_time": "2022-08-15T09:36:11.481517",
     "status": "completed"
    },
    "tags": []
   },
   "source": [
    "# Keep Going\n",
    "\n",
    "Nice job with the code. Next up, you'll learn about *conditionals*, which you'll need to **[write interesting programs](https://www.kaggle.com/colinmorris/booleans-and-conditionals)**. "
   ]
  },
  {
   "cell_type": "markdown",
   "id": "9b00032d",
   "metadata": {
    "papermill": {
     "duration": 0.006937,
     "end_time": "2022-08-15T09:36:11.503194",
     "exception": false,
     "start_time": "2022-08-15T09:36:11.496257",
     "status": "completed"
    },
    "tags": []
   },
   "source": [
    "---\n",
    "\n",
    "\n",
    "\n",
    "\n",
    "*Have questions or comments? Visit the [course discussion forum](https://www.kaggle.com/learn/python/discussion) to chat with other learners.*"
   ]
  }
 ],
 "metadata": {
  "kernelspec": {
   "display_name": "Python 3",
   "language": "python",
   "name": "python3"
  },
  "language_info": {
   "codemirror_mode": {
    "name": "ipython",
    "version": 3
   },
   "file_extension": ".py",
   "mimetype": "text/x-python",
   "name": "python",
   "nbconvert_exporter": "python",
   "pygments_lexer": "ipython3",
   "version": "3.7.12"
  },
  "papermill": {
   "default_parameters": {},
   "duration": 12.865718,
   "end_time": "2022-08-15T09:36:12.535226",
   "environment_variables": {},
   "exception": null,
   "input_path": "__notebook__.ipynb",
   "output_path": "__notebook__.ipynb",
   "parameters": {},
   "start_time": "2022-08-15T09:35:59.669508",
   "version": "2.3.4"
  }
 },
 "nbformat": 4,
 "nbformat_minor": 5
}
