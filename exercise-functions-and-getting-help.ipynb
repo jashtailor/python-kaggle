{
 "cells": [
  {
   "cell_type": "markdown",
   "id": "b7c353dd",
   "metadata": {
    "papermill": {
     "duration": 0.005993,
     "end_time": "2022-08-12T13:49:33.140170",
     "exception": false,
     "start_time": "2022-08-12T13:49:33.134177",
     "status": "completed"
    },
    "tags": []
   },
   "source": [
    "**This notebook is an exercise in the [Python](https://www.kaggle.com/learn/python) course.  You can reference the tutorial at [this link](https://www.kaggle.com/colinmorris/functions-and-getting-help).**\n",
    "\n",
    "---\n"
   ]
  },
  {
   "cell_type": "markdown",
   "id": "e23e02d7",
   "metadata": {
    "papermill": {
     "duration": 0.004502,
     "end_time": "2022-08-12T13:49:33.149951",
     "exception": false,
     "start_time": "2022-08-12T13:49:33.145449",
     "status": "completed"
    },
    "tags": []
   },
   "source": [
    "Functions are powerful. Try writing some yourself.\n",
    "\n",
    "As before, don't forget to run the setup code below before jumping into question 1."
   ]
  },
  {
   "cell_type": "code",
   "execution_count": 1,
   "id": "99e29dc4",
   "metadata": {
    "_kg_hide-input": true,
    "_kg_hide-output": true,
    "execution": {
     "iopub.execute_input": "2022-08-12T13:49:33.162008Z",
     "iopub.status.busy": "2022-08-12T13:49:33.161233Z",
     "iopub.status.idle": "2022-08-12T13:49:33.220386Z",
     "shell.execute_reply": "2022-08-12T13:49:33.218949Z"
    },
    "papermill": {
     "duration": 0.06902,
     "end_time": "2022-08-12T13:49:33.223811",
     "exception": false,
     "start_time": "2022-08-12T13:49:33.154791",
     "status": "completed"
    },
    "tags": []
   },
   "outputs": [
    {
     "name": "stdout",
     "output_type": "stream",
     "text": [
      "Setup complete.\n"
     ]
    }
   ],
   "source": [
    "# SETUP. You don't need to worry for now about what this code does or how it works.\n",
    "from learntools.core import binder; binder.bind(globals())\n",
    "from learntools.python.ex2 import *\n",
    "print('Setup complete.')"
   ]
  },
  {
   "cell_type": "markdown",
   "id": "109e4e33",
   "metadata": {
    "papermill": {
     "duration": 0.004713,
     "end_time": "2022-08-12T13:49:33.233976",
     "exception": false,
     "start_time": "2022-08-12T13:49:33.229263",
     "status": "completed"
    },
    "tags": []
   },
   "source": [
    "# 1.\n",
    "\n",
    "Complete the body of the following function according to its docstring.\n",
    "\n",
    "HINT: Python has a built-in function `round`."
   ]
  },
  {
   "cell_type": "code",
   "execution_count": 2,
   "id": "1795e57c",
   "metadata": {
    "execution": {
     "iopub.execute_input": "2022-08-12T13:49:33.245962Z",
     "iopub.status.busy": "2022-08-12T13:49:33.245546Z",
     "iopub.status.idle": "2022-08-12T13:49:33.257704Z",
     "shell.execute_reply": "2022-08-12T13:49:33.256460Z"
    },
    "papermill": {
     "duration": 0.021317,
     "end_time": "2022-08-12T13:49:33.260312",
     "exception": false,
     "start_time": "2022-08-12T13:49:33.238995",
     "status": "completed"
    },
    "tags": []
   },
   "outputs": [
    {
     "data": {
      "application/javascript": [
       "parent.postMessage({\"jupyterEvent\": \"custom.exercise_interaction\", \"data\": {\"outcomeType\": 1, \"valueTowardsCompletion\": 0.16666666666666666, \"interactionType\": 1, \"questionType\": 2, \"questionId\": \"1_RoundFunctionProblem\", \"learnToolsVersion\": \"0.3.4\", \"failureMessage\": \"\", \"exceptionClass\": \"\", \"trace\": \"\"}}, \"*\")"
      ],
      "text/plain": [
       "<IPython.core.display.Javascript object>"
      ]
     },
     "metadata": {},
     "output_type": "display_data"
    },
    {
     "data": {
      "text/markdown": [
       "<span style=\"color:#33cc33\">Correct</span>"
      ],
      "text/plain": [
       "Correct"
      ]
     },
     "metadata": {},
     "output_type": "display_data"
    }
   ],
   "source": [
    "def round_to_two_places(num):\n",
    "    \"\"\"Return the given number rounded to two decimal places. \n",
    "    \n",
    "    >>> round_to_two_places(3.14159)\n",
    "    3.14\n",
    "    \"\"\"\n",
    "    # Replace this body with your own code.\n",
    "    # (\"pass\" is a keyword that does literally nothing. We used it as a placeholder\n",
    "    # because after we begin a code block, Python requires at least one line of code)\n",
    "    return round(num, 2)\n",
    "\n",
    "# Check your answer\n",
    "q1.check()"
   ]
  },
  {
   "cell_type": "code",
   "execution_count": 3,
   "id": "df4b96bd",
   "metadata": {
    "execution": {
     "iopub.execute_input": "2022-08-12T13:49:33.272610Z",
     "iopub.status.busy": "2022-08-12T13:49:33.272209Z",
     "iopub.status.idle": "2022-08-12T13:49:33.287491Z",
     "shell.execute_reply": "2022-08-12T13:49:33.286189Z"
    },
    "papermill": {
     "duration": 0.024619,
     "end_time": "2022-08-12T13:49:33.290229",
     "exception": false,
     "start_time": "2022-08-12T13:49:33.265610",
     "status": "completed"
    },
    "tags": []
   },
   "outputs": [
    {
     "data": {
      "application/javascript": [
       "parent.postMessage({\"jupyterEvent\": \"custom.exercise_interaction\", \"data\": {\"interactionType\": 2, \"questionType\": 2, \"questionId\": \"1_RoundFunctionProblem\", \"learnToolsVersion\": \"0.3.4\", \"valueTowardsCompletion\": 0.0, \"failureMessage\": \"\", \"exceptionClass\": \"\", \"trace\": \"\", \"outcomeType\": 4}}, \"*\")"
      ],
      "text/plain": [
       "<IPython.core.display.Javascript object>"
      ]
     },
     "metadata": {},
     "output_type": "display_data"
    },
    {
     "data": {
      "text/markdown": [
       "<span style=\"color:#3366cc\">Hint:</span> Run `help(round)` in the console (or in a code cell) to learn more about the round function. You'll need to use the function's optional second argument."
      ],
      "text/plain": [
       "Hint: Run `help(round)` in the console (or in a code cell) to learn more about the round function. You'll need to use the function's optional second argument."
      ]
     },
     "metadata": {},
     "output_type": "display_data"
    },
    {
     "data": {
      "application/javascript": [
       "parent.postMessage({\"jupyterEvent\": \"custom.exercise_interaction\", \"data\": {\"interactionType\": 3, \"questionType\": 2, \"questionId\": \"1_RoundFunctionProblem\", \"learnToolsVersion\": \"0.3.4\", \"valueTowardsCompletion\": 0.0, \"failureMessage\": \"\", \"exceptionClass\": \"\", \"trace\": \"\", \"outcomeType\": 4}}, \"*\")"
      ],
      "text/plain": [
       "<IPython.core.display.Javascript object>"
      ]
     },
     "metadata": {},
     "output_type": "display_data"
    },
    {
     "data": {
      "text/markdown": [
       "<span style=\"color:#33cc99\">Solution:</span> \n",
       "```python\n",
       "return round(num, 2)\n",
       "```"
      ],
      "text/plain": [
       "Solution: \n",
       "```python\n",
       "return round(num, 2)\n",
       "```"
      ]
     },
     "metadata": {},
     "output_type": "display_data"
    }
   ],
   "source": [
    "# Uncomment the following for a hint\n",
    "q1.hint()\n",
    "# Or uncomment the following to peek at the solution\n",
    "q1.solution()"
   ]
  },
  {
   "cell_type": "markdown",
   "id": "2344edc7",
   "metadata": {
    "papermill": {
     "duration": 0.005782,
     "end_time": "2022-08-12T13:49:33.302120",
     "exception": false,
     "start_time": "2022-08-12T13:49:33.296338",
     "status": "completed"
    },
    "tags": []
   },
   "source": [
    "# 2.\n",
    "The help for `round` says that `ndigits` (the second argument) may be negative.\n",
    "What do you think will happen when it is? Try some examples in the following cell."
   ]
  },
  {
   "cell_type": "code",
   "execution_count": 4,
   "id": "267922e1",
   "metadata": {
    "execution": {
     "iopub.execute_input": "2022-08-12T13:49:33.316635Z",
     "iopub.status.busy": "2022-08-12T13:49:33.316177Z",
     "iopub.status.idle": "2022-08-12T13:49:33.323185Z",
     "shell.execute_reply": "2022-08-12T13:49:33.322227Z"
    },
    "papermill": {
     "duration": 0.017063,
     "end_time": "2022-08-12T13:49:33.325500",
     "exception": false,
     "start_time": "2022-08-12T13:49:33.308437",
     "status": "completed"
    },
    "tags": []
   },
   "outputs": [
    {
     "data": {
      "text/plain": [
       "231600"
      ]
     },
     "execution_count": 4,
     "metadata": {},
     "output_type": "execute_result"
    }
   ],
   "source": [
    "# Put your test code here\n",
    "round(231568, -2)"
   ]
  },
  {
   "cell_type": "markdown",
   "id": "1b902180",
   "metadata": {
    "papermill": {
     "duration": 0.005474,
     "end_time": "2022-08-12T13:49:33.337161",
     "exception": false,
     "start_time": "2022-08-12T13:49:33.331687",
     "status": "completed"
    },
    "tags": []
   },
   "source": [
    "Can you think of a case where this would be useful?  Once you're ready, run the code cell below to see the answer and to receive credit for completing the problem."
   ]
  },
  {
   "cell_type": "code",
   "execution_count": 5,
   "id": "22ad1395",
   "metadata": {
    "execution": {
     "iopub.execute_input": "2022-08-12T13:49:33.350542Z",
     "iopub.status.busy": "2022-08-12T13:49:33.350086Z",
     "iopub.status.idle": "2022-08-12T13:49:33.358222Z",
     "shell.execute_reply": "2022-08-12T13:49:33.357361Z"
    },
    "papermill": {
     "duration": 0.0173,
     "end_time": "2022-08-12T13:49:33.360275",
     "exception": false,
     "start_time": "2022-08-12T13:49:33.342975",
     "status": "completed"
    },
    "tags": []
   },
   "outputs": [
    {
     "data": {
      "application/javascript": [
       "parent.postMessage({\"jupyterEvent\": \"custom.exercise_interaction\", \"data\": {\"interactionType\": 3, \"questionType\": 4, \"questionId\": \"2_RoundNdigitsProblem\", \"learnToolsVersion\": \"0.3.4\", \"valueTowardsCompletion\": 0.0, \"failureMessage\": \"\", \"exceptionClass\": \"\", \"trace\": \"\", \"outcomeType\": 4}}, \"*\")"
      ],
      "text/plain": [
       "<IPython.core.display.Javascript object>"
      ]
     },
     "metadata": {},
     "output_type": "display_data"
    },
    {
     "data": {
      "text/markdown": [
       "<span style=\"color:#33cc99\">Solution:</span> As you've seen, `ndigits=-1` rounds to the nearest 10, `ndigits=-2` rounds to the nearest 100 and so on. Where might this be useful? Suppose we're dealing with large numbers:\n",
       "\n",
       "> The area of Finland is 338,424 km²  \n",
       "> The area of Greenland is 2,166,086 km²\n",
       "\n",
       "We probably don't care whether it's really 338,424, or 338,425, or 338,177. All those digits of accuracy are just distracting. We can chop them off by calling `round()` with `ndigits=-3`:\n",
       "\n",
       "> The area of Finland is 338,000 km²  \n",
       "> The area of Greenland is 2,166,000 km²\n",
       "\n",
       "(We'll talk about how we would get the commas later when we talk about string formatting :))\n"
      ],
      "text/plain": [
       "Solution: As you've seen, `ndigits=-1` rounds to the nearest 10, `ndigits=-2` rounds to the nearest 100 and so on. Where might this be useful? Suppose we're dealing with large numbers:\n",
       "\n",
       "> The area of Finland is 338,424 km²  \n",
       "> The area of Greenland is 2,166,086 km²\n",
       "\n",
       "We probably don't care whether it's really 338,424, or 338,425, or 338,177. All those digits of accuracy are just distracting. We can chop them off by calling `round()` with `ndigits=-3`:\n",
       "\n",
       "> The area of Finland is 338,000 km²  \n",
       "> The area of Greenland is 2,166,000 km²\n",
       "\n",
       "(We'll talk about how we would get the commas later when we talk about string formatting :))"
      ]
     },
     "metadata": {},
     "output_type": "display_data"
    }
   ],
   "source": [
    "# Check your answer (Run this code cell to receive credit!)\n",
    "q2.solution()"
   ]
  },
  {
   "cell_type": "markdown",
   "id": "abf16318",
   "metadata": {
    "papermill": {
     "duration": 0.005706,
     "end_time": "2022-08-12T13:49:33.372034",
     "exception": false,
     "start_time": "2022-08-12T13:49:33.366328",
     "status": "completed"
    },
    "tags": []
   },
   "source": [
    "# 3.\n",
    "\n",
    "In the previous exercise, the candy-sharing friends Alice, Bob and Carol tried to split candies evenly. For the sake of their friendship, any candies left over would be smashed. For example, if they collectively bring home 91 candies, they'll take 30 each and smash 1.\n",
    "\n",
    "Below is a simple function that will calculate the number of candies to smash for *any* number of total candies.\n",
    "\n",
    "Modify it so that it optionally takes a second argument representing the number of friends the candies are being split between. If no second argument is provided, it should assume 3 friends, as before.\n",
    "\n",
    "Update the docstring to reflect this new behaviour."
   ]
  },
  {
   "cell_type": "code",
   "execution_count": 6,
   "id": "2deeccd8",
   "metadata": {
    "execution": {
     "iopub.execute_input": "2022-08-12T13:49:33.385969Z",
     "iopub.status.busy": "2022-08-12T13:49:33.385573Z",
     "iopub.status.idle": "2022-08-12T13:49:33.394286Z",
     "shell.execute_reply": "2022-08-12T13:49:33.393462Z"
    },
    "papermill": {
     "duration": 0.018323,
     "end_time": "2022-08-12T13:49:33.396309",
     "exception": false,
     "start_time": "2022-08-12T13:49:33.377986",
     "status": "completed"
    },
    "tags": []
   },
   "outputs": [
    {
     "data": {
      "application/javascript": [
       "parent.postMessage({\"jupyterEvent\": \"custom.exercise_interaction\", \"data\": {\"outcomeType\": 1, \"valueTowardsCompletion\": 0.16666666666666666, \"interactionType\": 1, \"questionType\": 2, \"questionId\": \"3_CandySmashingFunctionProblem\", \"learnToolsVersion\": \"0.3.4\", \"failureMessage\": \"\", \"exceptionClass\": \"\", \"trace\": \"\"}}, \"*\")"
      ],
      "text/plain": [
       "<IPython.core.display.Javascript object>"
      ]
     },
     "metadata": {},
     "output_type": "display_data"
    },
    {
     "data": {
      "text/markdown": [
       "<span style=\"color:#33cc33\">Correct</span>"
      ],
      "text/plain": [
       "Correct"
      ]
     },
     "metadata": {},
     "output_type": "display_data"
    }
   ],
   "source": [
    "def to_smash(total_candies, n_friends=3):\n",
    "    \"\"\"Return the number of leftover candies that must be smashed after distributing\n",
    "    the given number of candies evenly between 3 friends.\n",
    "    \n",
    "    >>> to_smash(91)\n",
    "    1\n",
    "    \"\"\"\n",
    "    return total_candies%n_friends\n",
    "\n",
    "# Check your answer\n",
    "q3.check()"
   ]
  },
  {
   "cell_type": "code",
   "execution_count": 7,
   "id": "dd24e84b",
   "metadata": {
    "execution": {
     "iopub.execute_input": "2022-08-12T13:49:33.410572Z",
     "iopub.status.busy": "2022-08-12T13:49:33.410134Z",
     "iopub.status.idle": "2022-08-12T13:49:33.419040Z",
     "shell.execute_reply": "2022-08-12T13:49:33.417909Z"
    },
    "papermill": {
     "duration": 0.019002,
     "end_time": "2022-08-12T13:49:33.421460",
     "exception": false,
     "start_time": "2022-08-12T13:49:33.402458",
     "status": "completed"
    },
    "tags": []
   },
   "outputs": [
    {
     "data": {
      "application/javascript": [
       "parent.postMessage({\"jupyterEvent\": \"custom.exercise_interaction\", \"data\": {\"interactionType\": 2, \"questionType\": 2, \"questionId\": \"3_CandySmashingFunctionProblem\", \"learnToolsVersion\": \"0.3.4\", \"valueTowardsCompletion\": 0.0, \"failureMessage\": \"\", \"exceptionClass\": \"\", \"trace\": \"\", \"outcomeType\": 4}}, \"*\")"
      ],
      "text/plain": [
       "<IPython.core.display.Javascript object>"
      ]
     },
     "metadata": {},
     "output_type": "display_data"
    },
    {
     "data": {
      "text/markdown": [
       "<span style=\"color:#3366cc\">Hint:</span> Refer to the section of the last tutorial notebook where we talked about default arguments"
      ],
      "text/plain": [
       "Hint: Refer to the section of the last tutorial notebook where we talked about default arguments"
      ]
     },
     "metadata": {},
     "output_type": "display_data"
    }
   ],
   "source": [
    "q3.hint()"
   ]
  },
  {
   "cell_type": "code",
   "execution_count": 8,
   "id": "5d9c02ac",
   "metadata": {
    "execution": {
     "iopub.execute_input": "2022-08-12T13:49:33.438221Z",
     "iopub.status.busy": "2022-08-12T13:49:33.436765Z",
     "iopub.status.idle": "2022-08-12T13:49:33.448191Z",
     "shell.execute_reply": "2022-08-12T13:49:33.446746Z"
    },
    "papermill": {
     "duration": 0.022328,
     "end_time": "2022-08-12T13:49:33.450755",
     "exception": false,
     "start_time": "2022-08-12T13:49:33.428427",
     "status": "completed"
    },
    "tags": []
   },
   "outputs": [
    {
     "data": {
      "application/javascript": [
       "parent.postMessage({\"jupyterEvent\": \"custom.exercise_interaction\", \"data\": {\"interactionType\": 3, \"questionType\": 2, \"questionId\": \"3_CandySmashingFunctionProblem\", \"learnToolsVersion\": \"0.3.4\", \"valueTowardsCompletion\": 0.0, \"failureMessage\": \"\", \"exceptionClass\": \"\", \"trace\": \"\", \"outcomeType\": 4}}, \"*\")"
      ],
      "text/plain": [
       "<IPython.core.display.Javascript object>"
      ]
     },
     "metadata": {},
     "output_type": "display_data"
    },
    {
     "data": {
      "text/markdown": [
       "<span style=\"color:#33cc99\">Solution:</span> \n",
       "```python\n",
       "def to_smash(total_candies, n_friends=3):\n",
       "    return total_candies % n_friends\n",
       "```"
      ],
      "text/plain": [
       "Solution: \n",
       "```python\n",
       "def to_smash(total_candies, n_friends=3):\n",
       "    return total_candies % n_friends\n",
       "```"
      ]
     },
     "metadata": {},
     "output_type": "display_data"
    }
   ],
   "source": [
    "q3.solution()"
   ]
  },
  {
   "cell_type": "markdown",
   "id": "1fad8858",
   "metadata": {
    "papermill": {
     "duration": 0.006539,
     "end_time": "2022-08-12T13:49:33.464161",
     "exception": false,
     "start_time": "2022-08-12T13:49:33.457622",
     "status": "completed"
    },
    "tags": []
   },
   "source": [
    "# 4. (Optional)\n",
    "\n",
    "It may not be fun, but reading and understanding error messages will be an important part of your Python career.\n",
    "\n",
    "Each code cell below contains some commented buggy code. For each cell...\n",
    "\n",
    "1. Read the code and predict what you think will happen when it's run.\n",
    "2. Then uncomment the code and run it to see what happens. (**Tip**: In the kernel editor, you can highlight several lines and press `ctrl`+`/` to toggle commenting.)\n",
    "3. Fix the code (so that it accomplishes its intended purpose without throwing an exception)\n",
    "\n",
    "<!-- TODO: should this be autochecked? Delta is probably pretty small. -->"
   ]
  },
  {
   "cell_type": "code",
   "execution_count": 9,
   "id": "75342eb7",
   "metadata": {
    "execution": {
     "iopub.execute_input": "2022-08-12T13:49:33.480412Z",
     "iopub.status.busy": "2022-08-12T13:49:33.479995Z",
     "iopub.status.idle": "2022-08-12T13:49:33.486872Z",
     "shell.execute_reply": "2022-08-12T13:49:33.485644Z"
    },
    "papermill": {
     "duration": 0.018633,
     "end_time": "2022-08-12T13:49:33.489590",
     "exception": false,
     "start_time": "2022-08-12T13:49:33.470957",
     "status": "completed"
    },
    "tags": []
   },
   "outputs": [
    {
     "data": {
      "text/plain": [
       "10.0"
      ]
     },
     "execution_count": 9,
     "metadata": {},
     "output_type": "execute_result"
    }
   ],
   "source": [
    "round_to_two_places(9.9999)"
   ]
  },
  {
   "cell_type": "code",
   "execution_count": 10,
   "id": "fc401244",
   "metadata": {
    "execution": {
     "iopub.execute_input": "2022-08-12T13:49:33.506011Z",
     "iopub.status.busy": "2022-08-12T13:49:33.505330Z",
     "iopub.status.idle": "2022-08-12T13:49:33.510684Z",
     "shell.execute_reply": "2022-08-12T13:49:33.509674Z"
    },
    "papermill": {
     "duration": 0.016267,
     "end_time": "2022-08-12T13:49:33.513122",
     "exception": false,
     "start_time": "2022-08-12T13:49:33.496855",
     "status": "completed"
    },
    "tags": []
   },
   "outputs": [],
   "source": [
    "x = -10\n",
    "y = 5\n",
    "# # Which of the two variables above has the smallest absolute value?\n",
    "smallest_abs = min(abs(x), abs(y))"
   ]
  },
  {
   "cell_type": "code",
   "execution_count": 11,
   "id": "ed82638d",
   "metadata": {
    "execution": {
     "iopub.execute_input": "2022-08-12T13:49:33.528782Z",
     "iopub.status.busy": "2022-08-12T13:49:33.528338Z",
     "iopub.status.idle": "2022-08-12T13:49:33.533750Z",
     "shell.execute_reply": "2022-08-12T13:49:33.532861Z"
    },
    "papermill": {
     "duration": 0.016034,
     "end_time": "2022-08-12T13:49:33.536130",
     "exception": false,
     "start_time": "2022-08-12T13:49:33.520096",
     "status": "completed"
    },
    "tags": []
   },
   "outputs": [
    {
     "name": "stdout",
     "output_type": "stream",
     "text": [
      "5\n"
     ]
    }
   ],
   "source": [
    "def f(x):\n",
    "    y = abs(x)\n",
    "    return y\n",
    "\n",
    "print(f(5))"
   ]
  },
  {
   "cell_type": "markdown",
   "id": "7e7bff11",
   "metadata": {
    "papermill": {
     "duration": 0.007186,
     "end_time": "2022-08-12T13:49:33.550442",
     "exception": false,
     "start_time": "2022-08-12T13:49:33.543256",
     "status": "completed"
    },
    "tags": []
   },
   "source": [
    "# Keep Going\n",
    "\n",
    "Nice job with the code. Next up, you'll learn about *conditionals*, which you'll need to **[write interesting programs](https://www.kaggle.com/colinmorris/booleans-and-conditionals)**. "
   ]
  },
  {
   "cell_type": "markdown",
   "id": "06eac2bd",
   "metadata": {
    "papermill": {
     "duration": 0.008135,
     "end_time": "2022-08-12T13:49:33.565631",
     "exception": false,
     "start_time": "2022-08-12T13:49:33.557496",
     "status": "completed"
    },
    "tags": []
   },
   "source": [
    "---\n",
    "\n",
    "\n",
    "\n",
    "\n",
    "*Have questions or comments? Visit the [course discussion forum](https://www.kaggle.com/learn/python/discussion) to chat with other learners.*"
   ]
  }
 ],
 "metadata": {
  "kernelspec": {
   "display_name": "Python 3",
   "language": "python",
   "name": "python3"
  },
  "language_info": {
   "codemirror_mode": {
    "name": "ipython",
    "version": 3
   },
   "file_extension": ".py",
   "mimetype": "text/x-python",
   "name": "python",
   "nbconvert_exporter": "python",
   "pygments_lexer": "ipython3",
   "version": "3.7.12"
  },
  "papermill": {
   "default_parameters": {},
   "duration": 11.289097,
   "end_time": "2022-08-12T13:49:34.299748",
   "environment_variables": {},
   "exception": null,
   "input_path": "__notebook__.ipynb",
   "output_path": "__notebook__.ipynb",
   "parameters": {},
   "start_time": "2022-08-12T13:49:23.010651",
   "version": "2.3.4"
  }
 },
 "nbformat": 4,
 "nbformat_minor": 5
}
