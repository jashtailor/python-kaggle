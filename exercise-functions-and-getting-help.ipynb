{
 "cells": [
  {
   "cell_type": "markdown",
   "id": "bf0bd3aa",
   "metadata": {
    "papermill": {
     "duration": 0.006052,
     "end_time": "2022-08-12T13:52:53.383241",
     "exception": false,
     "start_time": "2022-08-12T13:52:53.377189",
     "status": "completed"
    },
    "tags": []
   },
   "source": [
    "**This notebook is an exercise in the [Python](https://www.kaggle.com/learn/python) course.  You can reference the tutorial at [this link](https://www.kaggle.com/colinmorris/functions-and-getting-help).**\n",
    "\n",
    "---\n"
   ]
  },
  {
   "cell_type": "markdown",
   "id": "fd4830e3",
   "metadata": {
    "papermill": {
     "duration": 0.004579,
     "end_time": "2022-08-12T13:52:53.393340",
     "exception": false,
     "start_time": "2022-08-12T13:52:53.388761",
     "status": "completed"
    },
    "tags": []
   },
   "source": [
    "Functions are powerful. Try writing some yourself.\n",
    "\n",
    "As before, don't forget to run the setup code below before jumping into question 1."
   ]
  },
  {
   "cell_type": "code",
   "execution_count": 1,
   "id": "02e9a903",
   "metadata": {
    "_kg_hide-input": true,
    "_kg_hide-output": true,
    "execution": {
     "iopub.execute_input": "2022-08-12T13:52:53.405082Z",
     "iopub.status.busy": "2022-08-12T13:52:53.404552Z",
     "iopub.status.idle": "2022-08-12T13:52:53.461023Z",
     "shell.execute_reply": "2022-08-12T13:52:53.460130Z"
    },
    "papermill": {
     "duration": 0.066306,
     "end_time": "2022-08-12T13:52:53.464616",
     "exception": false,
     "start_time": "2022-08-12T13:52:53.398310",
     "status": "completed"
    },
    "tags": []
   },
   "outputs": [
    {
     "name": "stdout",
     "output_type": "stream",
     "text": [
      "Setup complete.\n"
     ]
    }
   ],
   "source": [
    "# SETUP. You don't need to worry for now about what this code does or how it works.\n",
    "from learntools.core import binder; binder.bind(globals())\n",
    "from learntools.python.ex2 import *\n",
    "print('Setup complete.')"
   ]
  },
  {
   "cell_type": "markdown",
   "id": "dbe7a2d8",
   "metadata": {
    "papermill": {
     "duration": 0.004817,
     "end_time": "2022-08-12T13:52:53.475349",
     "exception": false,
     "start_time": "2022-08-12T13:52:53.470532",
     "status": "completed"
    },
    "tags": []
   },
   "source": [
    "# 1.\n",
    "\n",
    "Complete the body of the following function according to its docstring.\n",
    "\n",
    "HINT: Python has a built-in function `round`."
   ]
  },
  {
   "cell_type": "code",
   "execution_count": 2,
   "id": "86e01387",
   "metadata": {
    "execution": {
     "iopub.execute_input": "2022-08-12T13:52:53.487522Z",
     "iopub.status.busy": "2022-08-12T13:52:53.486592Z",
     "iopub.status.idle": "2022-08-12T13:52:53.497776Z",
     "shell.execute_reply": "2022-08-12T13:52:53.496953Z"
    },
    "papermill": {
     "duration": 0.019697,
     "end_time": "2022-08-12T13:52:53.499999",
     "exception": false,
     "start_time": "2022-08-12T13:52:53.480302",
     "status": "completed"
    },
    "tags": []
   },
   "outputs": [
    {
     "data": {
      "application/javascript": [
       "parent.postMessage({\"jupyterEvent\": \"custom.exercise_interaction\", \"data\": {\"outcomeType\": 1, \"valueTowardsCompletion\": 0.16666666666666666, \"interactionType\": 1, \"questionType\": 2, \"questionId\": \"1_RoundFunctionProblem\", \"learnToolsVersion\": \"0.3.4\", \"failureMessage\": \"\", \"exceptionClass\": \"\", \"trace\": \"\"}}, \"*\")"
      ],
      "text/plain": [
       "<IPython.core.display.Javascript object>"
      ]
     },
     "metadata": {},
     "output_type": "display_data"
    },
    {
     "data": {
      "text/markdown": [
       "<span style=\"color:#33cc33\">Correct</span>"
      ],
      "text/plain": [
       "Correct"
      ]
     },
     "metadata": {},
     "output_type": "display_data"
    }
   ],
   "source": [
    "def round_to_two_places(num):\n",
    "    \"\"\"Return the given number rounded to two decimal places. \n",
    "    \n",
    "    >>> round_to_two_places(3.14159)\n",
    "    3.14\n",
    "    \"\"\"\n",
    "    # Replace this body with your own code.\n",
    "    # (\"pass\" is a keyword that does literally nothing. We used it as a placeholder\n",
    "    # because after we begin a code block, Python requires at least one line of code)\n",
    "    return round(num, 2)\n",
    "\n",
    "# Check your answer\n",
    "q1.check()"
   ]
  },
  {
   "cell_type": "code",
   "execution_count": 3,
   "id": "593de01a",
   "metadata": {
    "execution": {
     "iopub.execute_input": "2022-08-12T13:52:53.513095Z",
     "iopub.status.busy": "2022-08-12T13:52:53.512302Z",
     "iopub.status.idle": "2022-08-12T13:52:53.524982Z",
     "shell.execute_reply": "2022-08-12T13:52:53.523790Z"
    },
    "papermill": {
     "duration": 0.022341,
     "end_time": "2022-08-12T13:52:53.527712",
     "exception": false,
     "start_time": "2022-08-12T13:52:53.505371",
     "status": "completed"
    },
    "tags": []
   },
   "outputs": [
    {
     "data": {
      "application/javascript": [
       "parent.postMessage({\"jupyterEvent\": \"custom.exercise_interaction\", \"data\": {\"interactionType\": 2, \"questionType\": 2, \"questionId\": \"1_RoundFunctionProblem\", \"learnToolsVersion\": \"0.3.4\", \"valueTowardsCompletion\": 0.0, \"failureMessage\": \"\", \"exceptionClass\": \"\", \"trace\": \"\", \"outcomeType\": 4}}, \"*\")"
      ],
      "text/plain": [
       "<IPython.core.display.Javascript object>"
      ]
     },
     "metadata": {},
     "output_type": "display_data"
    },
    {
     "data": {
      "text/markdown": [
       "<span style=\"color:#3366cc\">Hint:</span> Run `help(round)` in the console (or in a code cell) to learn more about the round function. You'll need to use the function's optional second argument."
      ],
      "text/plain": [
       "Hint: Run `help(round)` in the console (or in a code cell) to learn more about the round function. You'll need to use the function's optional second argument."
      ]
     },
     "metadata": {},
     "output_type": "display_data"
    },
    {
     "data": {
      "application/javascript": [
       "parent.postMessage({\"jupyterEvent\": \"custom.exercise_interaction\", \"data\": {\"interactionType\": 3, \"questionType\": 2, \"questionId\": \"1_RoundFunctionProblem\", \"learnToolsVersion\": \"0.3.4\", \"valueTowardsCompletion\": 0.0, \"failureMessage\": \"\", \"exceptionClass\": \"\", \"trace\": \"\", \"outcomeType\": 4}}, \"*\")"
      ],
      "text/plain": [
       "<IPython.core.display.Javascript object>"
      ]
     },
     "metadata": {},
     "output_type": "display_data"
    },
    {
     "data": {
      "text/markdown": [
       "<span style=\"color:#33cc99\">Solution:</span> \n",
       "```python\n",
       "return round(num, 2)\n",
       "```"
      ],
      "text/plain": [
       "Solution: \n",
       "```python\n",
       "return round(num, 2)\n",
       "```"
      ]
     },
     "metadata": {},
     "output_type": "display_data"
    }
   ],
   "source": [
    "# Uncomment the following for a hint\n",
    "q1.hint()\n",
    "# Or uncomment the following to peek at the solution\n",
    "q1.solution()"
   ]
  },
  {
   "cell_type": "markdown",
   "id": "c9c8ffd1",
   "metadata": {
    "papermill": {
     "duration": 0.005639,
     "end_time": "2022-08-12T13:52:53.539168",
     "exception": false,
     "start_time": "2022-08-12T13:52:53.533529",
     "status": "completed"
    },
    "tags": []
   },
   "source": [
    "# 2.\n",
    "The help for `round` says that `ndigits` (the second argument) may be negative.\n",
    "What do you think will happen when it is? Try some examples in the following cell."
   ]
  },
  {
   "cell_type": "code",
   "execution_count": 4,
   "id": "aa63f082",
   "metadata": {
    "execution": {
     "iopub.execute_input": "2022-08-12T13:52:53.553220Z",
     "iopub.status.busy": "2022-08-12T13:52:53.552421Z",
     "iopub.status.idle": "2022-08-12T13:52:53.560054Z",
     "shell.execute_reply": "2022-08-12T13:52:53.558957Z"
    },
    "papermill": {
     "duration": 0.01736,
     "end_time": "2022-08-12T13:52:53.562489",
     "exception": false,
     "start_time": "2022-08-12T13:52:53.545129",
     "status": "completed"
    },
    "tags": []
   },
   "outputs": [
    {
     "data": {
      "text/plain": [
       "231600"
      ]
     },
     "execution_count": 4,
     "metadata": {},
     "output_type": "execute_result"
    }
   ],
   "source": [
    "# Put your test code here\n",
    "round(231568, -2)"
   ]
  },
  {
   "cell_type": "markdown",
   "id": "422e50da",
   "metadata": {
    "papermill": {
     "duration": 0.005561,
     "end_time": "2022-08-12T13:52:53.573822",
     "exception": false,
     "start_time": "2022-08-12T13:52:53.568261",
     "status": "completed"
    },
    "tags": []
   },
   "source": [
    "Can you think of a case where this would be useful?  Once you're ready, run the code cell below to see the answer and to receive credit for completing the problem."
   ]
  },
  {
   "cell_type": "code",
   "execution_count": 5,
   "id": "a2bc8f91",
   "metadata": {
    "execution": {
     "iopub.execute_input": "2022-08-12T13:52:53.588366Z",
     "iopub.status.busy": "2022-08-12T13:52:53.587493Z",
     "iopub.status.idle": "2022-08-12T13:52:53.597575Z",
     "shell.execute_reply": "2022-08-12T13:52:53.596402Z"
    },
    "papermill": {
     "duration": 0.019995,
     "end_time": "2022-08-12T13:52:53.599979",
     "exception": false,
     "start_time": "2022-08-12T13:52:53.579984",
     "status": "completed"
    },
    "tags": []
   },
   "outputs": [
    {
     "data": {
      "application/javascript": [
       "parent.postMessage({\"jupyterEvent\": \"custom.exercise_interaction\", \"data\": {\"interactionType\": 3, \"questionType\": 4, \"questionId\": \"2_RoundNdigitsProblem\", \"learnToolsVersion\": \"0.3.4\", \"valueTowardsCompletion\": 0.0, \"failureMessage\": \"\", \"exceptionClass\": \"\", \"trace\": \"\", \"outcomeType\": 4}}, \"*\")"
      ],
      "text/plain": [
       "<IPython.core.display.Javascript object>"
      ]
     },
     "metadata": {},
     "output_type": "display_data"
    },
    {
     "data": {
      "text/markdown": [
       "<span style=\"color:#33cc99\">Solution:</span> As you've seen, `ndigits=-1` rounds to the nearest 10, `ndigits=-2` rounds to the nearest 100 and so on. Where might this be useful? Suppose we're dealing with large numbers:\n",
       "\n",
       "> The area of Finland is 338,424 km²  \n",
       "> The area of Greenland is 2,166,086 km²\n",
       "\n",
       "We probably don't care whether it's really 338,424, or 338,425, or 338,177. All those digits of accuracy are just distracting. We can chop them off by calling `round()` with `ndigits=-3`:\n",
       "\n",
       "> The area of Finland is 338,000 km²  \n",
       "> The area of Greenland is 2,166,000 km²\n",
       "\n",
       "(We'll talk about how we would get the commas later when we talk about string formatting :))\n"
      ],
      "text/plain": [
       "Solution: As you've seen, `ndigits=-1` rounds to the nearest 10, `ndigits=-2` rounds to the nearest 100 and so on. Where might this be useful? Suppose we're dealing with large numbers:\n",
       "\n",
       "> The area of Finland is 338,424 km²  \n",
       "> The area of Greenland is 2,166,086 km²\n",
       "\n",
       "We probably don't care whether it's really 338,424, or 338,425, or 338,177. All those digits of accuracy are just distracting. We can chop them off by calling `round()` with `ndigits=-3`:\n",
       "\n",
       "> The area of Finland is 338,000 km²  \n",
       "> The area of Greenland is 2,166,000 km²\n",
       "\n",
       "(We'll talk about how we would get the commas later when we talk about string formatting :))"
      ]
     },
     "metadata": {},
     "output_type": "display_data"
    }
   ],
   "source": [
    "# Check your answer (Run this code cell to receive credit!)\n",
    "q2.solution()"
   ]
  },
  {
   "cell_type": "markdown",
   "id": "cf36e0e4",
   "metadata": {
    "papermill": {
     "duration": 0.006247,
     "end_time": "2022-08-12T13:52:53.612369",
     "exception": false,
     "start_time": "2022-08-12T13:52:53.606122",
     "status": "completed"
    },
    "tags": []
   },
   "source": [
    "# 3.\n",
    "\n",
    "In the previous exercise, the candy-sharing friends Alice, Bob and Carol tried to split candies evenly. For the sake of their friendship, any candies left over would be smashed. For example, if they collectively bring home 91 candies, they'll take 30 each and smash 1.\n",
    "\n",
    "Below is a simple function that will calculate the number of candies to smash for *any* number of total candies.\n",
    "\n",
    "Modify it so that it optionally takes a second argument representing the number of friends the candies are being split between. If no second argument is provided, it should assume 3 friends, as before.\n",
    "\n",
    "Update the docstring to reflect this new behaviour."
   ]
  },
  {
   "cell_type": "code",
   "execution_count": 6,
   "id": "524ed7e2",
   "metadata": {
    "execution": {
     "iopub.execute_input": "2022-08-12T13:52:53.626806Z",
     "iopub.status.busy": "2022-08-12T13:52:53.626381Z",
     "iopub.status.idle": "2022-08-12T13:52:53.637210Z",
     "shell.execute_reply": "2022-08-12T13:52:53.635981Z"
    },
    "papermill": {
     "duration": 0.020971,
     "end_time": "2022-08-12T13:52:53.639564",
     "exception": false,
     "start_time": "2022-08-12T13:52:53.618593",
     "status": "completed"
    },
    "tags": []
   },
   "outputs": [
    {
     "data": {
      "application/javascript": [
       "parent.postMessage({\"jupyterEvent\": \"custom.exercise_interaction\", \"data\": {\"outcomeType\": 1, \"valueTowardsCompletion\": 0.16666666666666666, \"interactionType\": 1, \"questionType\": 2, \"questionId\": \"3_CandySmashingFunctionProblem\", \"learnToolsVersion\": \"0.3.4\", \"failureMessage\": \"\", \"exceptionClass\": \"\", \"trace\": \"\"}}, \"*\")"
      ],
      "text/plain": [
       "<IPython.core.display.Javascript object>"
      ]
     },
     "metadata": {},
     "output_type": "display_data"
    },
    {
     "data": {
      "text/markdown": [
       "<span style=\"color:#33cc33\">Correct</span>"
      ],
      "text/plain": [
       "Correct"
      ]
     },
     "metadata": {},
     "output_type": "display_data"
    }
   ],
   "source": [
    "def to_smash(total_candies, n_friends=3):\n",
    "    \"\"\"Return the number of leftover candies that must be smashed after distributing\n",
    "    the given number of candies evenly between 3 friends.\n",
    "    \n",
    "    >>> to_smash(91)\n",
    "    1\n",
    "    \"\"\"\n",
    "    return total_candies%n_friends\n",
    "\n",
    "# Check your answer\n",
    "q3.check()"
   ]
  },
  {
   "cell_type": "code",
   "execution_count": 7,
   "id": "c65065e8",
   "metadata": {
    "execution": {
     "iopub.execute_input": "2022-08-12T13:52:53.655716Z",
     "iopub.status.busy": "2022-08-12T13:52:53.654404Z",
     "iopub.status.idle": "2022-08-12T13:52:53.665159Z",
     "shell.execute_reply": "2022-08-12T13:52:53.663960Z"
    },
    "papermill": {
     "duration": 0.02143,
     "end_time": "2022-08-12T13:52:53.667662",
     "exception": false,
     "start_time": "2022-08-12T13:52:53.646232",
     "status": "completed"
    },
    "tags": []
   },
   "outputs": [
    {
     "data": {
      "application/javascript": [
       "parent.postMessage({\"jupyterEvent\": \"custom.exercise_interaction\", \"data\": {\"interactionType\": 2, \"questionType\": 2, \"questionId\": \"3_CandySmashingFunctionProblem\", \"learnToolsVersion\": \"0.3.4\", \"valueTowardsCompletion\": 0.0, \"failureMessage\": \"\", \"exceptionClass\": \"\", \"trace\": \"\", \"outcomeType\": 4}}, \"*\")"
      ],
      "text/plain": [
       "<IPython.core.display.Javascript object>"
      ]
     },
     "metadata": {},
     "output_type": "display_data"
    },
    {
     "data": {
      "text/markdown": [
       "<span style=\"color:#3366cc\">Hint:</span> Refer to the section of the last tutorial notebook where we talked about default arguments"
      ],
      "text/plain": [
       "Hint: Refer to the section of the last tutorial notebook where we talked about default arguments"
      ]
     },
     "metadata": {},
     "output_type": "display_data"
    }
   ],
   "source": [
    "q3.hint()"
   ]
  },
  {
   "cell_type": "code",
   "execution_count": 8,
   "id": "aa17c9e7",
   "metadata": {
    "execution": {
     "iopub.execute_input": "2022-08-12T13:52:53.683202Z",
     "iopub.status.busy": "2022-08-12T13:52:53.682037Z",
     "iopub.status.idle": "2022-08-12T13:52:53.690383Z",
     "shell.execute_reply": "2022-08-12T13:52:53.689473Z"
    },
    "papermill": {
     "duration": 0.018283,
     "end_time": "2022-08-12T13:52:53.692547",
     "exception": false,
     "start_time": "2022-08-12T13:52:53.674264",
     "status": "completed"
    },
    "tags": []
   },
   "outputs": [
    {
     "data": {
      "application/javascript": [
       "parent.postMessage({\"jupyterEvent\": \"custom.exercise_interaction\", \"data\": {\"interactionType\": 3, \"questionType\": 2, \"questionId\": \"3_CandySmashingFunctionProblem\", \"learnToolsVersion\": \"0.3.4\", \"valueTowardsCompletion\": 0.0, \"failureMessage\": \"\", \"exceptionClass\": \"\", \"trace\": \"\", \"outcomeType\": 4}}, \"*\")"
      ],
      "text/plain": [
       "<IPython.core.display.Javascript object>"
      ]
     },
     "metadata": {},
     "output_type": "display_data"
    },
    {
     "data": {
      "text/markdown": [
       "<span style=\"color:#33cc99\">Solution:</span> \n",
       "```python\n",
       "def to_smash(total_candies, n_friends=3):\n",
       "    return total_candies % n_friends\n",
       "```"
      ],
      "text/plain": [
       "Solution: \n",
       "```python\n",
       "def to_smash(total_candies, n_friends=3):\n",
       "    return total_candies % n_friends\n",
       "```"
      ]
     },
     "metadata": {},
     "output_type": "display_data"
    }
   ],
   "source": [
    "q3.solution()"
   ]
  },
  {
   "cell_type": "markdown",
   "id": "e90ea186",
   "metadata": {
    "papermill": {
     "duration": 0.007303,
     "end_time": "2022-08-12T13:52:53.706645",
     "exception": false,
     "start_time": "2022-08-12T13:52:53.699342",
     "status": "completed"
    },
    "tags": []
   },
   "source": [
    "# 4. (Optional)\n",
    "\n",
    "It may not be fun, but reading and understanding error messages will be an important part of your Python career.\n",
    "\n",
    "Each code cell below contains some commented buggy code. For each cell...\n",
    "\n",
    "1. Read the code and predict what you think will happen when it's run.\n",
    "2. Then uncomment the code and run it to see what happens. (**Tip**: In the kernel editor, you can highlight several lines and press `ctrl`+`/` to toggle commenting.)\n",
    "3. Fix the code (so that it accomplishes its intended purpose without throwing an exception)\n",
    "\n",
    "<!-- TODO: should this be autochecked? Delta is probably pretty small. -->"
   ]
  },
  {
   "cell_type": "code",
   "execution_count": 9,
   "id": "9ea97a9a",
   "metadata": {
    "execution": {
     "iopub.execute_input": "2022-08-12T13:52:53.722622Z",
     "iopub.status.busy": "2022-08-12T13:52:53.722006Z",
     "iopub.status.idle": "2022-08-12T13:52:53.727944Z",
     "shell.execute_reply": "2022-08-12T13:52:53.727091Z"
    },
    "papermill": {
     "duration": 0.016345,
     "end_time": "2022-08-12T13:52:53.730076",
     "exception": false,
     "start_time": "2022-08-12T13:52:53.713731",
     "status": "completed"
    },
    "tags": []
   },
   "outputs": [
    {
     "data": {
      "text/plain": [
       "10.0"
      ]
     },
     "execution_count": 9,
     "metadata": {},
     "output_type": "execute_result"
    }
   ],
   "source": [
    "round_to_two_places(9.9999)"
   ]
  },
  {
   "cell_type": "code",
   "execution_count": 10,
   "id": "b098e69e",
   "metadata": {
    "execution": {
     "iopub.execute_input": "2022-08-12T13:52:53.746116Z",
     "iopub.status.busy": "2022-08-12T13:52:53.745452Z",
     "iopub.status.idle": "2022-08-12T13:52:53.750063Z",
     "shell.execute_reply": "2022-08-12T13:52:53.749138Z"
    },
    "papermill": {
     "duration": 0.015566,
     "end_time": "2022-08-12T13:52:53.752633",
     "exception": false,
     "start_time": "2022-08-12T13:52:53.737067",
     "status": "completed"
    },
    "tags": []
   },
   "outputs": [],
   "source": [
    "x = -10\n",
    "y = 5\n",
    "# # Which of the two variables above has the smallest absolute value?\n",
    "smallest_abs = min(abs(x), abs(y))"
   ]
  },
  {
   "cell_type": "code",
   "execution_count": 11,
   "id": "da5946e5",
   "metadata": {
    "execution": {
     "iopub.execute_input": "2022-08-12T13:52:53.769013Z",
     "iopub.status.busy": "2022-08-12T13:52:53.768232Z",
     "iopub.status.idle": "2022-08-12T13:52:53.774856Z",
     "shell.execute_reply": "2022-08-12T13:52:53.773065Z"
    },
    "papermill": {
     "duration": 0.018788,
     "end_time": "2022-08-12T13:52:53.778540",
     "exception": false,
     "start_time": "2022-08-12T13:52:53.759752",
     "status": "completed"
    },
    "tags": []
   },
   "outputs": [
    {
     "name": "stdout",
     "output_type": "stream",
     "text": [
      "5\n"
     ]
    }
   ],
   "source": [
    "def f(x):\n",
    "    y = abs(x)\n",
    "    return y\n",
    "\n",
    "print(f(5))"
   ]
  },
  {
   "cell_type": "markdown",
   "id": "6472fd58",
   "metadata": {
    "papermill": {
     "duration": 0.00652,
     "end_time": "2022-08-12T13:52:53.792446",
     "exception": false,
     "start_time": "2022-08-12T13:52:53.785926",
     "status": "completed"
    },
    "tags": []
   },
   "source": [
    "# Keep Going\n",
    "\n",
    "Nice job with the code. Next up, you'll learn about *conditionals*, which you'll need to **[write interesting programs](https://www.kaggle.com/colinmorris/booleans-and-conditionals)**. "
   ]
  },
  {
   "cell_type": "markdown",
   "id": "b8a9f3db",
   "metadata": {
    "papermill": {
     "duration": 0.006632,
     "end_time": "2022-08-12T13:52:53.805993",
     "exception": false,
     "start_time": "2022-08-12T13:52:53.799361",
     "status": "completed"
    },
    "tags": []
   },
   "source": [
    "---\n",
    "\n",
    "\n",
    "\n",
    "\n",
    "*Have questions or comments? Visit the [course discussion forum](https://www.kaggle.com/learn/python/discussion) to chat with other learners.*"
   ]
  }
 ],
 "metadata": {
  "kernelspec": {
   "display_name": "Python 3",
   "language": "python",
   "name": "python3"
  },
  "language_info": {
   "codemirror_mode": {
    "name": "ipython",
    "version": 3
   },
   "file_extension": ".py",
   "mimetype": "text/x-python",
   "name": "python",
   "nbconvert_exporter": "python",
   "pygments_lexer": "ipython3",
   "version": "3.7.12"
  },
  "papermill": {
   "default_parameters": {},
   "duration": 12.780145,
   "end_time": "2022-08-12T13:52:54.736657",
   "environment_variables": {},
   "exception": null,
   "input_path": "__notebook__.ipynb",
   "output_path": "__notebook__.ipynb",
   "parameters": {},
   "start_time": "2022-08-12T13:52:41.956512",
   "version": "2.3.4"
  }
 },
 "nbformat": 4,
 "nbformat_minor": 5
}
